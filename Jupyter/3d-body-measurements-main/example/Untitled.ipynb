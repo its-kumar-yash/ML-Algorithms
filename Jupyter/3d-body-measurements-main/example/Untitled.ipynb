{
 "cells": [
  {
   "cell_type": "code",
   "execution_count": 5,
   "id": "23ab243f",
   "metadata": {},
   "outputs": [],
   "source": [
    "import pywavefront\n",
    "import numpy as np\n",
    "import os"
   ]
  },
  {
   "cell_type": "code",
   "execution_count": 12,
   "id": "882b922f",
   "metadata": {},
   "outputs": [],
   "source": [
    "from measurementCopy import Body3D"
   ]
  },
  {
   "cell_type": "code",
   "execution_count": 14,
   "id": "d5d1613f",
   "metadata": {},
   "outputs": [],
   "source": [
    "current_dir = os.path.dirname(os.path.abspath(\"__file__\"))\n",
    "data_dir = os.path.join(current_dir, 'data')"
   ]
  },
  {
   "cell_type": "code",
   "execution_count": 15,
   "id": "30f70d42",
   "metadata": {},
   "outputs": [],
   "source": [
    "def main():\n",
    "    person = pywavefront.Wavefront(\n",
    "        os.path.join(data_dir, 'person.obj'),\n",
    "        create_materials=True,\n",
    "        collect_faces=True\n",
    "    )\n",
    "    faces = np.array(person.mesh_list[0].faces)\n",
    "    vertices = np.array(person.vertices)\n",
    "\n",
    "    body = Body3D(vertices, faces)\n",
    "\n",
    "    body_measurements = body.getMeasurements()\n",
    "\n",
    "    height = body.height()\n",
    "    weight = body.weight()\n",
    "    shoulder_2d, shoulder_location, shoulder_length = body.shoulder()\n",
    "    chest_2d, chest_location, chest_length = body.chest()\n",
    "    hip_2d, hip_location, hip_length = body.hip()\n",
    "    waist_2d, waist_location, waist_length = body.waist()\n",
    "    thigh_2d, thigh_location, thigh_length = body.thighOutline()\n",
    "    outer_leg_length = body.outerLeg()\n",
    "    inner_leg_length = body.innerLeg()\n",
    "    neck_2d, neck_location, neck_length = body.neck()\n",
    "    neck_hip_length = body.neckToHip()\n"
   ]
  },
  {
   "cell_type": "code",
   "execution_count": 4,
   "id": "10e18ec7",
   "metadata": {},
   "outputs": [
    {
     "ename": "NameError",
     "evalue": "name 'main' is not defined",
     "output_type": "error",
     "traceback": [
      "\u001b[1;31m---------------------------------------------------------------------------\u001b[0m",
      "\u001b[1;31mNameError\u001b[0m                                 Traceback (most recent call last)",
      "Cell \u001b[1;32mIn[4], line 2\u001b[0m\n\u001b[0;32m      1\u001b[0m \u001b[38;5;28;01mif\u001b[39;00m \u001b[38;5;18m__name__\u001b[39m \u001b[38;5;241m==\u001b[39m \u001b[38;5;124m'\u001b[39m\u001b[38;5;124m__main__\u001b[39m\u001b[38;5;124m'\u001b[39m:\n\u001b[1;32m----> 2\u001b[0m     main()\n",
      "\u001b[1;31mNameError\u001b[0m: name 'main' is not defined"
     ]
    }
   ],
   "source": [
    "if __name__ == '__main__':\n",
    "    main()"
   ]
  },
  {
   "cell_type": "code",
   "execution_count": null,
   "id": "06f415d9",
   "metadata": {},
   "outputs": [],
   "source": []
  },
  {
   "cell_type": "code",
   "execution_count": null,
   "id": "6efc763b",
   "metadata": {},
   "outputs": [],
   "source": []
  },
  {
   "cell_type": "code",
   "execution_count": null,
   "id": "14ab0861",
   "metadata": {},
   "outputs": [],
   "source": []
  },
  {
   "cell_type": "code",
   "execution_count": null,
   "id": "1502db91",
   "metadata": {},
   "outputs": [],
   "source": []
  }
 ],
 "metadata": {
  "kernelspec": {
   "display_name": "Python 3 (ipykernel)",
   "language": "python",
   "name": "python3"
  },
  "language_info": {
   "codemirror_mode": {
    "name": "ipython",
    "version": 3
   },
   "file_extension": ".py",
   "mimetype": "text/x-python",
   "name": "python",
   "nbconvert_exporter": "python",
   "pygments_lexer": "ipython3",
   "version": "3.11.4"
  }
 },
 "nbformat": 4,
 "nbformat_minor": 5
}
