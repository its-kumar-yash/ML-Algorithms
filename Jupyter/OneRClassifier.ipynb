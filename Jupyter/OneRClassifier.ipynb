{
 "cells": [
  {
   "cell_type": "code",
   "execution_count": 2,
   "id": "aed3a666",
   "metadata": {},
   "outputs": [],
   "source": [
    "import numpy as np\n",
    "import pandas as pd"
   ]
  },
  {
   "cell_type": "code",
   "execution_count": 4,
   "id": "de2b2e5f",
   "metadata": {},
   "outputs": [],
   "source": [
    "df = pd.read_csv(\"golf-dataset.csv\")"
   ]
  },
  {
   "cell_type": "code",
   "execution_count": 5,
   "id": "d226a24c",
   "metadata": {},
   "outputs": [
    {
     "data": {
      "text/html": [
       "<div>\n",
       "<style scoped>\n",
       "    .dataframe tbody tr th:only-of-type {\n",
       "        vertical-align: middle;\n",
       "    }\n",
       "\n",
       "    .dataframe tbody tr th {\n",
       "        vertical-align: top;\n",
       "    }\n",
       "\n",
       "    .dataframe thead th {\n",
       "        text-align: right;\n",
       "    }\n",
       "</style>\n",
       "<table border=\"1\" class=\"dataframe\">\n",
       "  <thead>\n",
       "    <tr style=\"text-align: right;\">\n",
       "      <th></th>\n",
       "      <th>Outlook</th>\n",
       "      <th>Temp</th>\n",
       "      <th>Humidity</th>\n",
       "      <th>Windy</th>\n",
       "      <th>Play Golf</th>\n",
       "    </tr>\n",
       "  </thead>\n",
       "  <tbody>\n",
       "    <tr>\n",
       "      <th>0</th>\n",
       "      <td>Rainy</td>\n",
       "      <td>Hot</td>\n",
       "      <td>High</td>\n",
       "      <td>False</td>\n",
       "      <td>No</td>\n",
       "    </tr>\n",
       "    <tr>\n",
       "      <th>1</th>\n",
       "      <td>Rainy</td>\n",
       "      <td>Hot</td>\n",
       "      <td>High</td>\n",
       "      <td>True</td>\n",
       "      <td>No</td>\n",
       "    </tr>\n",
       "    <tr>\n",
       "      <th>2</th>\n",
       "      <td>Overcast</td>\n",
       "      <td>Hot</td>\n",
       "      <td>High</td>\n",
       "      <td>False</td>\n",
       "      <td>Yes</td>\n",
       "    </tr>\n",
       "    <tr>\n",
       "      <th>3</th>\n",
       "      <td>Sunny</td>\n",
       "      <td>Mild</td>\n",
       "      <td>High</td>\n",
       "      <td>False</td>\n",
       "      <td>Yes</td>\n",
       "    </tr>\n",
       "    <tr>\n",
       "      <th>4</th>\n",
       "      <td>Sunny</td>\n",
       "      <td>Cool</td>\n",
       "      <td>Normal</td>\n",
       "      <td>False</td>\n",
       "      <td>Yes</td>\n",
       "    </tr>\n",
       "  </tbody>\n",
       "</table>\n",
       "</div>"
      ],
      "text/plain": [
       "    Outlook  Temp Humidity  Windy Play Golf\n",
       "0     Rainy   Hot     High  False        No\n",
       "1     Rainy   Hot     High   True        No\n",
       "2  Overcast   Hot     High  False       Yes\n",
       "3     Sunny  Mild     High  False       Yes\n",
       "4     Sunny  Cool   Normal  False       Yes"
      ]
     },
     "execution_count": 5,
     "metadata": {},
     "output_type": "execute_result"
    }
   ],
   "source": [
    "df.head()"
   ]
  },
  {
   "cell_type": "code",
   "execution_count": 6,
   "id": "68f387b8",
   "metadata": {},
   "outputs": [
    {
     "data": {
      "text/plain": [
       "(14, 5)"
      ]
     },
     "execution_count": 6,
     "metadata": {},
     "output_type": "execute_result"
    }
   ],
   "source": [
    "df.shape"
   ]
  },
  {
   "cell_type": "code",
   "execution_count": 11,
   "id": "5de3ba2b",
   "metadata": {},
   "outputs": [],
   "source": [
    "class OneR:\n",
    "    def __init__(self):\n",
    "        self.rule = None\n",
    "        self.accuracy = 0.0\n",
    "        self.classes = []\n",
    "\n",
    "    def fit(self, X_train, y_train):\n",
    "        if len(X_train) != len(y_train):\n",
    "            raise Exception(\"Invalid training data\")\n",
    "\n",
    "        X_train = np.array(X_train).T\n",
    "        y_train = np.array(y_train)\n",
    "        training_samples = len(y_train)\n",
    "        self.classes = list(np.unique(y_train))\n",
    "\n",
    "        if len(self.classes) != 2:\n",
    "            raise Exception(\"Algorithm is made for binary classification only\")\n",
    "\n",
    "        accuracy = 0.0\n",
    "\n",
    "        for idx, column in enumerate(X_train):\n",
    "            data = {k: {key: 0 for key in self.classes} for k in np.unique(column)}\n",
    "\n",
    "            for d, y in zip(column, y_train):\n",
    "                data[d][y] += 1\n",
    "\n",
    "            data = pd.DataFrame(data)\n",
    "            correct_samples = 0\n",
    "            rule = {}\n",
    "\n",
    "            for col in data.columns:\n",
    "                prediction = np.argmax(data[col])\n",
    "                rule[col] = prediction\n",
    "                correct_samples += data[col][prediction]\n",
    "\n",
    "            accuracy = correct_samples / training_samples\n",
    "\n",
    "            if accuracy > self.accuracy:\n",
    "                self.accuracy = accuracy\n",
    "                self.rule = idx, rule\n",
    "\n",
    "        return self.rule\n",
    "\n",
    "    def predict(self, X_test):\n",
    "        X_test = np.array(X_test)\n",
    "\n",
    "        if not self.rule:\n",
    "            raise Exception(\"Model not trained\")\n",
    "\n",
    "        idx, rule = self.rule\n",
    "        y_pred = []\n",
    "\n",
    "        for itr in X_test:\n",
    "            y_pred.append(rule[itr[idx]])\n",
    "\n",
    "        return y_pred\n",
    "\n",
    "    def evaluate(self, X_test, y_test):\n",
    "        if len(X_test) != len(y_test):\n",
    "            raise Exception(\"Invalid data\")\n",
    "\n",
    "        y_pred = self.predict(X_test)\n",
    "        correct = 0\n",
    "        total = len(y_test)\n",
    "\n",
    "        for pred, actual in zip(y_pred, y_test):\n",
    "            if self.classes[pred] == actual:\n",
    "                correct += 1\n",
    "\n",
    "        return correct / total"
   ]
  },
  {
   "cell_type": "code",
   "execution_count": 12,
   "id": "02f1d990",
   "metadata": {},
   "outputs": [
    {
     "data": {
      "text/plain": [
       "(0, {'Overcast': 1, 'Rainy': 0, 'Sunny': 1})"
      ]
     },
     "execution_count": 12,
     "metadata": {},
     "output_type": "execute_result"
    }
   ],
   "source": [
    "y = df['Play Golf']\n",
    "X = df.drop('Play Golf', axis=1)\n",
    "model = OneR()\n",
    "model.fit(X, y)"
   ]
  },
  {
   "cell_type": "code",
   "execution_count": 13,
   "id": "8b96f4f7",
   "metadata": {},
   "outputs": [
    {
     "data": {
      "text/plain": [
       "0.7142857142857143"
      ]
     },
     "execution_count": 13,
     "metadata": {},
     "output_type": "execute_result"
    }
   ],
   "source": [
    "model.accuracy"
   ]
  },
  {
   "cell_type": "code",
   "execution_count": null,
   "id": "ea34faf5",
   "metadata": {},
   "outputs": [],
   "source": []
  }
 ],
 "metadata": {
  "kernelspec": {
   "display_name": "Python 3 (ipykernel)",
   "language": "python",
   "name": "python3"
  },
  "language_info": {
   "codemirror_mode": {
    "name": "ipython",
    "version": 3
   },
   "file_extension": ".py",
   "mimetype": "text/x-python",
   "name": "python",
   "nbconvert_exporter": "python",
   "pygments_lexer": "ipython3",
   "version": "3.11.4"
  }
 },
 "nbformat": 4,
 "nbformat_minor": 5
}
