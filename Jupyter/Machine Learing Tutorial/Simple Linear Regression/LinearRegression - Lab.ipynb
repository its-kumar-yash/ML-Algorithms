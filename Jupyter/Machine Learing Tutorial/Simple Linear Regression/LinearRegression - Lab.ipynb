{
 "cells": [
  {
   "cell_type": "code",
   "execution_count": 1,
   "id": "7c59a9f3",
   "metadata": {},
   "outputs": [],
   "source": [
    "import pandas as pd\n",
    "import matplotlib.pyplot as plt\n",
    "import numpy as np"
   ]
  },
  {
   "cell_type": "code",
   "execution_count": 4,
   "id": "d2b6f660",
   "metadata": {},
   "outputs": [],
   "source": [
    "df = pd.read_csv('placement.csv')"
   ]
  },
  {
   "cell_type": "code",
   "execution_count": 5,
   "id": "a2fdff92",
   "metadata": {},
   "outputs": [
    {
     "data": {
      "text/html": [
       "<div>\n",
       "<style scoped>\n",
       "    .dataframe tbody tr th:only-of-type {\n",
       "        vertical-align: middle;\n",
       "    }\n",
       "\n",
       "    .dataframe tbody tr th {\n",
       "        vertical-align: top;\n",
       "    }\n",
       "\n",
       "    .dataframe thead th {\n",
       "        text-align: right;\n",
       "    }\n",
       "</style>\n",
       "<table border=\"1\" class=\"dataframe\">\n",
       "  <thead>\n",
       "    <tr style=\"text-align: right;\">\n",
       "      <th></th>\n",
       "      <th>cgpa</th>\n",
       "      <th>package</th>\n",
       "    </tr>\n",
       "  </thead>\n",
       "  <tbody>\n",
       "    <tr>\n",
       "      <th>0</th>\n",
       "      <td>6.89</td>\n",
       "      <td>3.26</td>\n",
       "    </tr>\n",
       "    <tr>\n",
       "      <th>1</th>\n",
       "      <td>5.12</td>\n",
       "      <td>1.98</td>\n",
       "    </tr>\n",
       "    <tr>\n",
       "      <th>2</th>\n",
       "      <td>7.82</td>\n",
       "      <td>3.25</td>\n",
       "    </tr>\n",
       "    <tr>\n",
       "      <th>3</th>\n",
       "      <td>7.42</td>\n",
       "      <td>3.67</td>\n",
       "    </tr>\n",
       "    <tr>\n",
       "      <th>4</th>\n",
       "      <td>6.94</td>\n",
       "      <td>3.57</td>\n",
       "    </tr>\n",
       "  </tbody>\n",
       "</table>\n",
       "</div>"
      ],
      "text/plain": [
       "   cgpa  package\n",
       "0  6.89     3.26\n",
       "1  5.12     1.98\n",
       "2  7.82     3.25\n",
       "3  7.42     3.67\n",
       "4  6.94     3.57"
      ]
     },
     "execution_count": 5,
     "metadata": {},
     "output_type": "execute_result"
    }
   ],
   "source": [
    "df.head()"
   ]
  },
  {
   "cell_type": "code",
   "execution_count": 9,
   "id": "33dc15a2",
   "metadata": {},
   "outputs": [
    {
     "data": {
      "text/plain": [
       "Text(0, 0.5, 'Package (in lpa)')"
      ]
     },
     "execution_count": 9,
     "metadata": {},
     "output_type": "execute_result"
    },
    {
     "data": {
      "image/png": "[encoded data removed]",
      "text/plain": [
       "<Figure size 640x480 with 1 Axes>"
      ]
     },
     "metadata": {},
     "output_type": "display_data"
    }
   ],
   "source": [
    "plt.scatter(df['cgpa'], df['package'])\n",
    "plt.xlabel('CGPA')\n",
    "plt.ylabel('Package (in lpa)')"
   ]
  },
  {
   "cell_type": "code",
   "execution_count": 32,
   "id": "ec92df7b",
   "metadata": {},
   "outputs": [],
   "source": [
    "X = df.iloc[:,0:1]\n",
    "y = df.iloc[:,1]"
   ]
  },
  {
   "cell_type": "code",
   "execution_count": 33,
   "id": "737cc393",
   "metadata": {},
   "outputs": [
    {
     "data": {
      "text/plain": [
       "(     cgpa\n",
       " 0    6.89\n",
       " 1    5.12\n",
       " 2    7.82\n",
       " 3    7.42\n",
       " 4    6.94\n",
       " ..    ...\n",
       " 195  6.93\n",
       " 196  5.89\n",
       " 197  7.21\n",
       " 198  7.63\n",
       " 199  6.22\n",
       " \n",
       " [200 rows x 1 columns],\n",
       " 0      3.26\n",
       " 1      1.98\n",
       " 2      3.25\n",
       " 3      3.67\n",
       " 4      3.57\n",
       "        ... \n",
       " 195    2.46\n",
       " 196    2.57\n",
       " 197    3.24\n",
       " 198    3.96\n",
       " 199    2.33\n",
       " Name: package, Length: 200, dtype: float64)"
      ]
     },
     "execution_count": 33,
     "metadata": {},
     "output_type": "execute_result"
    }
   ],
   "source": [
    "X, y"
   ]
  },
  {
   "cell_type": "code",
   "execution_count": 51,
   "id": "4ec6a040",
   "metadata": {},
   "outputs": [],
   "source": [
    "from sklearn.model_selection import train_test_split\n",
    "X_train, X_test, y_train,y_test = train_test_split(X, y)"
   ]
  },
  {
   "cell_type": "code",
   "execution_count": 35,
   "id": "f95a652a",
   "metadata": {},
   "outputs": [],
   "source": [
    "class LR:\n",
    "    def _init_(self):\n",
    "        self.m = None\n",
    "        self.b = None\n",
    "    def fit(self, x, y):\n",
    "        num = 0\n",
    "        den = 0\n",
    "        \n",
    "        n = x.shape[0]\n",
    "        mx = x.mean()\n",
    "        my = y.mean()\n",
    "        \n",
    "        for i in range(n):\n",
    "            num = num + ((x[i] - mx)*(y[i] - my))\n",
    "            den = den + ((x[i] - mx) * (x[i] - mx))\n",
    "        \n",
    "        self.m = num/den\n",
    "        self.b = my - (self.m * mx)\n",
    "        \n",
    "        print(self.m)\n",
    "        print(self.b)\n",
    "    \n",
    "    def predict(self, x):\n",
    "        return self.m * x + self.b"
   ]
  },
  {
   "cell_type": "code",
   "execution_count": 42,
   "id": "af2113ed",
   "metadata": {
    "scrolled": false
   },
   "outputs": [
    {
     "data": {
      "text/plain": [
       "array([2.19, 3.03, 2.3 , 3.82, 2.18, 3.67, 3.04, 2.58, 1.48, 3.51, 4.1 ,\n",
       "       2.84, 3.33, 2.93, 3.31, 2.89, 3.44, 4.09, 3.54, 2.42, 3.08, 3.26,\n",
       "       2.56, 4.06, 3.65, 3.23, 2.65, 2.1 , 2.99, 4.43, 3.52, 1.98, 3.89,\n",
       "       3.74, 4.21, 2.72, 2.87, 2.89, 3.25, 3.08, 3.63, 2.46, 2.6 , 2.85,\n",
       "       3.98, 3.55, 2.7 , 3.89, 2.6 , 2.99, 2.31, 3.  , 2.73, 4.37, 2.21,\n",
       "       2.79, 2.09, 4.36, 2.77, 3.65, 3.16, 2.44, 3.08, 2.71, 2.99, 2.48,\n",
       "       3.33, 2.98, 2.74, 2.2 , 2.99, 2.72, 3.42, 3.18, 3.28, 2.83, 3.58,\n",
       "       3.81, 4.08, 2.01, 3.23, 2.4 , 2.17, 3.13, 2.69, 2.87, 2.73, 2.16,\n",
       "       2.49, 3.99, 3.5 , 4.25, 2.54, 1.53, 2.26, 2.24, 1.48, 3.09, 2.61,\n",
       "       3.15, 1.54, 3.02, 3.13, 2.72, 3.26, 3.  , 2.82, 3.18, 3.24, 4.14,\n",
       "       3.57, 2.09, 3.91, 4.02, 3.75, 2.76, 2.59, 4.08, 3.4 , 3.34, 2.21,\n",
       "       2.61, 2.88, 1.63, 3.76, 4.11, 1.86, 2.31, 3.83, 3.08, 2.42, 2.3 ,\n",
       "       2.66, 1.37, 3.09, 2.57, 2.48, 4.6 , 3.64, 2.01, 3.96, 2.25, 2.6 ,\n",
       "       2.93, 2.92, 1.61, 3.16, 2.46, 3.49, 3.34])"
      ]
     },
     "execution_count": 42,
     "metadata": {},
     "output_type": "execute_result"
    }
   ],
   "source": [
    "x_values = X_train.values\n",
    "y_values = y_train.values\n",
    "y_values"
   ]
  },
  {
   "cell_type": "code",
   "execution_count": 43,
   "id": "3fed8c85",
   "metadata": {},
   "outputs": [
    {
     "data": {
      "text/plain": [
       "(150, 1)"
      ]
     },
     "execution_count": 43,
     "metadata": {},
     "output_type": "execute_result"
    }
   ],
   "source": [
    "x_values.shape"
   ]
  },
  {
   "cell_type": "code",
   "execution_count": 44,
   "id": "0bdd4e7e",
   "metadata": {},
   "outputs": [],
   "source": [
    "lr = LR()"
   ]
  },
  {
   "cell_type": "code",
   "execution_count": 45,
   "id": "e05a7ae1",
   "metadata": {},
   "outputs": [
    {
     "name": "stdout",
     "output_type": "stream",
     "text": [
      "[0.58960001]\n",
      "[-1.12273678]\n"
     ]
    }
   ],
   "source": [
    "lr.fit(x_values, y_values)"
   ]
  },
  {
   "cell_type": "code",
   "execution_count": 56,
   "id": "47845a96",
   "metadata": {},
   "outputs": [
    {
     "data": {
      "text/plain": [
       "array([4.47846334])"
      ]
     },
     "execution_count": 56,
     "metadata": {},
     "output_type": "execute_result"
    }
   ],
   "source": [
    "lr.predict(9.5)"
   ]
  },
  {
   "cell_type": "code",
   "execution_count": 49,
   "id": "cc51c2c2",
   "metadata": {},
   "outputs": [
    {
     "data": {
      "text/plain": [
       "Text(0, 0.5, 'Package (in lpa)')"
      ]
     },
     "execution_count": 49,
     "metadata": {},
     "output_type": "execute_result"
    },
    {
     "data": {
      "image/png": "[encoded data removed]",
      "text/plain": [
       "<Figure size 640x480 with 1 Axes>"
      ]
     },
     "metadata": {},
     "output_type": "display_data"
    }
   ],
   "source": [
    "plt.plot(x_values, lr.predict(x_values), color=\"red\")\n",
    "plt.scatter(df['cgpa'], df['package'])\n",
    "plt.xlabel('CGPA')\n",
    "plt.ylabel('Package (in lpa)')"
   ]
  },
  {
   "cell_type": "code",
   "execution_count": null,
   "id": "9cc80c77",
   "metadata": {},
   "outputs": [],
   "source": []
  },
  {
   "cell_type": "code",
   "execution_count": null,
   "id": "3fabe241",
   "metadata": {},
   "outputs": [],
   "source": []
  }
 ],
 "metadata": {
  "kernelspec": {
   "display_name": "Python 3 (ipykernel)",
   "language": "python",
   "name": "python3"
  },
  "language_info": {
   "codemirror_mode": {
    "name": "ipython",
    "version": 3
   },
   "file_extension": ".py",
   "mimetype": "text/x-python",
   "name": "python",
   "nbconvert_exporter": "python",
   "pygments_lexer": "ipython3",
   "version": "3.11.4"
  }
 },
 "nbformat": 4,
 "nbformat_minor": 5
}
