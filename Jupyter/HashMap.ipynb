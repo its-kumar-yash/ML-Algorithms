{
 "cells": [
  {
   "cell_type": "code",
   "execution_count": 4,
   "id": "475b39a5",
   "metadata": {},
   "outputs": [],
   "source": [
    "stock_prices = []\n",
    "with open(\"stock_price.csv\", \"r\") as f:\n",
    "    for l in f:\n",
    "        token = l.split(',')\n",
    "        day = token[0]\n",
    "        price = float(token[1])\n",
    "        stock_prices.append([day, price])"
   ]
  },
  {
   "cell_type": "code",
   "execution_count": 5,
   "id": "a6502bbb",
   "metadata": {
    "scrolled": true
   },
   "outputs": [
    {
     "data": {
      "text/plain": [
       "[['6-Mar', 310.0],\n",
       " ['7-Mar', 340.0],\n",
       " ['8-Mar', 380.0],\n",
       " ['9-Mar', 302.0],\n",
       " ['10-Mar', 297.0],\n",
       " ['11-Mar', 323.0]]"
      ]
     },
     "execution_count": 5,
     "metadata": {},
     "output_type": "execute_result"
    }
   ],
   "source": [
    "stock_prices"
   ]
  },
  {
   "cell_type": "code",
   "execution_count": 6,
   "id": "a022fd10",
   "metadata": {},
   "outputs": [
    {
     "data": {
      "text/plain": [
       "[['6-Mar', 310.0],\n",
       " ['7-Mar', 340.0],\n",
       " ['8-Mar', 380.0],\n",
       " ['9-Mar', 302.0],\n",
       " ['10-Mar', 297.0],\n",
       " ['11-Mar', 323.0]]"
      ]
     },
     "execution_count": 6,
     "metadata": {},
     "output_type": "execute_result"
    }
   ],
   "source": [
    "stock_prices"
   ]
  },
  {
   "cell_type": "code",
   "execution_count": null,
   "id": "3a62cd94",
   "metadata": {},
   "outputs": [],
   "source": [
    "stock_prices1 = {}\n",
    "with open(\"stock_price.csv\", \"r\") as f:\n",
    "    for l in f:\n",
    "        token = l.split(',')\n",
    "        day = token[0]\n",
    "        price = float(token[1])\n",
    "        stock_prices1[day] = price"
   ]
  },
  {
   "cell_type": "code",
   "execution_count": null,
   "id": "692f1e32",
   "metadata": {},
   "outputs": [],
   "source": []
  },
  {
   "cell_type": "code",
   "execution_count": null,
   "id": "a2305879",
   "metadata": {},
   "outputs": [],
   "source": []
  },
  {
   "cell_type": "code",
   "execution_count": null,
   "id": "dc1f9288",
   "metadata": {},
   "outputs": [],
   "source": []
  }
 ],
 "metadata": {
  "kernelspec": {
   "display_name": "Python 3 (ipykernel)",
   "language": "python",
   "name": "python3"
  },
  "language_info": {
   "codemirror_mode": {
    "name": "ipython",
    "version": 3
   },
   "file_extension": ".py",
   "mimetype": "text/x-python",
   "name": "python",
   "nbconvert_exporter": "python",
   "pygments_lexer": "ipython3",
   "version": "3.11.4"
  }
 },
 "nbformat": 4,
 "nbformat_minor": 5
}
