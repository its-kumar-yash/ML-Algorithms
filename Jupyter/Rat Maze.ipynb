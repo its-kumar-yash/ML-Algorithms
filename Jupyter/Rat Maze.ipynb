{
 "cells": [
  {
   "cell_type": "code",
   "execution_count": 2,
   "id": "56436f1b",
   "metadata": {},
   "outputs": [],
   "source": [
    "SIZE = 5\n",
    "maze = [\n",
    "    [0,1,0,1,1],\n",
    "    [0,0,0,0,0],\n",
    "    [1,0,1,0,1],\n",
    "    [0,0,1,0,0],\n",
    "    [1,0,0,1,0]\n",
    "]\n",
    "solution = [[0]*SIZE for _ in range(SIZE)]"
   ]
  },
  {
   "cell_type": "code",
   "execution_count": 3,
   "id": "5fa83859",
   "metadata": {},
   "outputs": [],
   "source": [
    "def solvemaze(r, c):\n",
    "    if (r==SIZE-1) and (c==SIZE-1):\n",
    "        solution[r][c] = 1;\n",
    "        return True;\n",
    "\n",
    "    if r>=0 and c>=0 and r<SIZE and c<SIZE and solution[r][c] == 0 and maze[r][c] == 0:\n",
    "        solution[r][c] = 1\n",
    "        #going down\n",
    "        if solvemaze(r+1, c):\n",
    "            return True\n",
    "        #going right\n",
    "        if solvemaze(r, c+1):\n",
    "            return True\n",
    "        #going up\n",
    "        if solvemaze(r-1, c):\n",
    "            return True\n",
    "        #going left\n",
    "        if solvemaze(r, c-1):\n",
    "            return True\n",
    "        #backtracking\n",
    "        solution[r][c] = 0;\n",
    "        return False;\n",
    "    return 0;"
   ]
  },
  {
   "cell_type": "code",
   "execution_count": 4,
   "id": "834e67a9",
   "metadata": {},
   "outputs": [
    {
     "name": "stdout",
     "output_type": "stream",
     "text": [
      "[1, 0, 0, 0, 0]\n",
      "[1, 1, 1, 1, 0]\n",
      "[0, 0, 0, 1, 0]\n",
      "[0, 0, 0, 1, 1]\n",
      "[0, 0, 0, 0, 1]\n"
     ]
    }
   ],
   "source": [
    "if(solvemaze(0,0)):\n",
    "    for i in solution:\n",
    "        print (i)\n",
    "else:\n",
    "    print (\"No solution\")"
   ]
  },
  {
   "cell_type": "code",
   "execution_count": null,
   "id": "4039bcb9",
   "metadata": {},
   "outputs": [],
   "source": []
  }
 ],
 "metadata": {
  "kernelspec": {
   "display_name": "Python 3 (ipykernel)",
   "language": "python",
   "name": "python3"
  },
  "language_info": {
   "codemirror_mode": {
    "name": "ipython",
    "version": 3
   },
   "file_extension": ".py",
   "mimetype": "text/x-python",
   "name": "python",
   "nbconvert_exporter": "python",
   "pygments_lexer": "ipython3",
   "version": "3.11.4"
  }
 },
 "nbformat": 4,
 "nbformat_minor": 5
}
